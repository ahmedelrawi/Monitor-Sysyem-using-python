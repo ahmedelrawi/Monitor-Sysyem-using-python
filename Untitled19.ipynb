{
 "cells": [
  {
   "cell_type": "code",
   "execution_count": 1,
   "id": "812bdc23",
   "metadata": {},
   "outputs": [],
   "source": [
    "import numpy as np\n",
    "import pandas as pd\n",
    "from sklearn.metrics import mean_absolute_error,mean_squared_error\n",
    "from sklearn.linear_model import LinearRegression\n",
    "from sklearn.tree import DecisionTreeRegressor"
   ]
  },
  {
   "cell_type": "code",
   "execution_count": 2,
   "id": "f7944399",
   "metadata": {},
   "outputs": [],
   "source": [
    "data = pd.read_csv('pub.log.txt',sep=\" \")\n",
    "data.drop(axis = 1,columns = ['Unnamed: 8'],inplace = True)"
   ]
  },
  {
   "cell_type": "code",
   "execution_count": 3,
   "id": "6eaed8b3",
   "metadata": {},
   "outputs": [],
   "source": [
    "data.rename(columns = {'2023-09-09':'Date'}, inplace = True)\n",
    "data.rename(columns = {'03:26:26':'Time'}, inplace = True)\n",
    "data.rename(columns = {'1.54':'CPU Usage'}, inplace = True)\n",
    "data.rename(columns = {'16':'Logical CPUs Used'}, inplace = True)\n",
    "data.rename(columns = {'65.5':'Virtual Memory (%)'}, inplace = True)\n",
    "data.rename(columns = {'11':'Virtual Memory (GB)'}, inplace = True)\n",
    "data.rename(columns = {'141.5':'Disk Usage'}, inplace = True)\n",
    "data.rename(columns = {'192.168.56.1':'IP'}, inplace = True)\n",
    "data.set_index(['Date'],inplace = True)"
   ]
  },
  {
   "cell_type": "code",
   "execution_count": 4,
   "id": "6f9fda1c",
   "metadata": {},
   "outputs": [
    {
     "data": {
      "text/html": [
       "<div>\n",
       "<style scoped>\n",
       "    .dataframe tbody tr th:only-of-type {\n",
       "        vertical-align: middle;\n",
       "    }\n",
       "\n",
       "    .dataframe tbody tr th {\n",
       "        vertical-align: top;\n",
       "    }\n",
       "\n",
       "    .dataframe thead th {\n",
       "        text-align: right;\n",
       "    }\n",
       "</style>\n",
       "<table border=\"1\" class=\"dataframe\">\n",
       "  <thead>\n",
       "    <tr style=\"text-align: right;\">\n",
       "      <th></th>\n",
       "      <th>Time</th>\n",
       "      <th>CPU Usage</th>\n",
       "      <th>Logical CPUs Used</th>\n",
       "      <th>Virtual Memory (%)</th>\n",
       "      <th>Virtual Memory (GB)</th>\n",
       "      <th>Disk Usage</th>\n",
       "      <th>IP</th>\n",
       "    </tr>\n",
       "    <tr>\n",
       "      <th>Date</th>\n",
       "      <th></th>\n",
       "      <th></th>\n",
       "      <th></th>\n",
       "      <th></th>\n",
       "      <th></th>\n",
       "      <th></th>\n",
       "      <th></th>\n",
       "    </tr>\n",
       "  </thead>\n",
       "  <tbody>\n",
       "    <tr>\n",
       "      <th>2023-09-09</th>\n",
       "      <td>03:26:30</td>\n",
       "      <td>3.13</td>\n",
       "      <td>16</td>\n",
       "      <td>65.7</td>\n",
       "      <td>11</td>\n",
       "      <td>141.5</td>\n",
       "      <td>192.168.56.1</td>\n",
       "    </tr>\n",
       "    <tr>\n",
       "      <th>2023-09-09</th>\n",
       "      <td>03:26:34</td>\n",
       "      <td>0.49</td>\n",
       "      <td>16</td>\n",
       "      <td>65.6</td>\n",
       "      <td>11</td>\n",
       "      <td>141.5</td>\n",
       "      <td>192.168.56.1</td>\n",
       "    </tr>\n",
       "    <tr>\n",
       "      <th>2023-09-09</th>\n",
       "      <td>03:26:38</td>\n",
       "      <td>4.61</td>\n",
       "      <td>16</td>\n",
       "      <td>66.0</td>\n",
       "      <td>11</td>\n",
       "      <td>141.5</td>\n",
       "      <td>192.168.56.1</td>\n",
       "    </tr>\n",
       "    <tr>\n",
       "      <th>2023-09-09</th>\n",
       "      <td>03:26:42</td>\n",
       "      <td>0.09</td>\n",
       "      <td>16</td>\n",
       "      <td>65.5</td>\n",
       "      <td>11</td>\n",
       "      <td>141.5</td>\n",
       "      <td>192.168.56.1</td>\n",
       "    </tr>\n",
       "    <tr>\n",
       "      <th>2023-09-09</th>\n",
       "      <td>03:26:46</td>\n",
       "      <td>1.18</td>\n",
       "      <td>16</td>\n",
       "      <td>65.6</td>\n",
       "      <td>11</td>\n",
       "      <td>141.5</td>\n",
       "      <td>192.168.56.1</td>\n",
       "    </tr>\n",
       "  </tbody>\n",
       "</table>\n",
       "</div>"
      ],
      "text/plain": [
       "                Time  CPU Usage  Logical CPUs Used  Virtual Memory (%)  \\\n",
       "Date                                                                     \n",
       "2023-09-09  03:26:30       3.13                 16                65.7   \n",
       "2023-09-09  03:26:34       0.49                 16                65.6   \n",
       "2023-09-09  03:26:38       4.61                 16                66.0   \n",
       "2023-09-09  03:26:42       0.09                 16                65.5   \n",
       "2023-09-09  03:26:46       1.18                 16                65.6   \n",
       "\n",
       "            Virtual Memory (GB)  Disk Usage            IP  \n",
       "Date                                                       \n",
       "2023-09-09                   11       141.5  192.168.56.1  \n",
       "2023-09-09                   11       141.5  192.168.56.1  \n",
       "2023-09-09                   11       141.5  192.168.56.1  \n",
       "2023-09-09                   11       141.5  192.168.56.1  \n",
       "2023-09-09                   11       141.5  192.168.56.1  "
      ]
     },
     "execution_count": 4,
     "metadata": {},
     "output_type": "execute_result"
    }
   ],
   "source": [
    "data.head()"
   ]
  },
  {
   "cell_type": "code",
   "execution_count": 5,
   "id": "664b38bf",
   "metadata": {},
   "outputs": [
    {
     "name": "stdout",
     "output_type": "stream",
     "text": [
      "Time  :  514\n",
      "CPU Usage  :  251\n",
      "Logical CPUs Used  :  1\n",
      "Virtual Memory (%)  :  86\n",
      "Virtual Memory (GB)  :  6\n",
      "Disk Usage  :  15\n",
      "IP  :  1\n"
     ]
    }
   ],
   "source": [
    "for i in data.columns:\n",
    "    print(i,' : ', data[i].nunique())"
   ]
  },
  {
   "cell_type": "code",
   "execution_count": 6,
   "id": "40f4498f",
   "metadata": {},
   "outputs": [
    {
     "data": {
      "text/html": [
       "<div>\n",
       "<style scoped>\n",
       "    .dataframe tbody tr th:only-of-type {\n",
       "        vertical-align: middle;\n",
       "    }\n",
       "\n",
       "    .dataframe tbody tr th {\n",
       "        vertical-align: top;\n",
       "    }\n",
       "\n",
       "    .dataframe thead th {\n",
       "        text-align: right;\n",
       "    }\n",
       "</style>\n",
       "<table border=\"1\" class=\"dataframe\">\n",
       "  <thead>\n",
       "    <tr style=\"text-align: right;\">\n",
       "      <th></th>\n",
       "      <th>CPU Usage</th>\n",
       "      <th>Virtual Memory (%)</th>\n",
       "      <th>Virtual Memory (GB)</th>\n",
       "      <th>Disk Usage</th>\n",
       "    </tr>\n",
       "    <tr>\n",
       "      <th>Date</th>\n",
       "      <th></th>\n",
       "      <th></th>\n",
       "      <th></th>\n",
       "      <th></th>\n",
       "    </tr>\n",
       "  </thead>\n",
       "  <tbody>\n",
       "    <tr>\n",
       "      <th>2023-09-09</th>\n",
       "      <td>3.13</td>\n",
       "      <td>65.7</td>\n",
       "      <td>11</td>\n",
       "      <td>141.5</td>\n",
       "    </tr>\n",
       "    <tr>\n",
       "      <th>2023-09-09</th>\n",
       "      <td>0.49</td>\n",
       "      <td>65.6</td>\n",
       "      <td>11</td>\n",
       "      <td>141.5</td>\n",
       "    </tr>\n",
       "    <tr>\n",
       "      <th>2023-09-09</th>\n",
       "      <td>4.61</td>\n",
       "      <td>66.0</td>\n",
       "      <td>11</td>\n",
       "      <td>141.5</td>\n",
       "    </tr>\n",
       "    <tr>\n",
       "      <th>2023-09-09</th>\n",
       "      <td>0.09</td>\n",
       "      <td>65.5</td>\n",
       "      <td>11</td>\n",
       "      <td>141.5</td>\n",
       "    </tr>\n",
       "    <tr>\n",
       "      <th>2023-09-09</th>\n",
       "      <td>1.18</td>\n",
       "      <td>65.6</td>\n",
       "      <td>11</td>\n",
       "      <td>141.5</td>\n",
       "    </tr>\n",
       "  </tbody>\n",
       "</table>\n",
       "</div>"
      ],
      "text/plain": [
       "            CPU Usage  Virtual Memory (%)  Virtual Memory (GB)  Disk Usage\n",
       "Date                                                                      \n",
       "2023-09-09       3.13                65.7                   11       141.5\n",
       "2023-09-09       0.49                65.6                   11       141.5\n",
       "2023-09-09       4.61                66.0                   11       141.5\n",
       "2023-09-09       0.09                65.5                   11       141.5\n",
       "2023-09-09       1.18                65.6                   11       141.5"
      ]
     },
     "execution_count": 6,
     "metadata": {},
     "output_type": "execute_result"
    }
   ],
   "source": [
    "data.drop(axis = 1,columns=['Logical CPUs Used','IP'],inplace = True)\n",
    "data.drop(axis = 1,columns=['Time'],inplace = True)\n",
    "data.reset_index(drop = True)\n",
    "data.head()"
   ]
  },
  {
   "cell_type": "code",
   "execution_count": 7,
   "id": "a445191e",
   "metadata": {},
   "outputs": [
    {
     "name": "stdout",
     "output_type": "stream",
     "text": [
      "Mean for CPU Usage columnis:  2.92\n",
      "Mean for Virtual Memory (%) columnis:  58.79\n",
      "Mean for Virtual Memory (GB) columnis:  9.84\n",
      "Mean for Disk Usage columnis:  141.69\n"
     ]
    }
   ],
   "source": [
    "for _ in data.columns:\n",
    "    print(f'Mean for {_} columnis: ',round(np.mean(data[_]),2))"
   ]
  },
  {
   "cell_type": "code",
   "execution_count": 8,
   "id": "75bad1e1",
   "metadata": {},
   "outputs": [],
   "source": [
    "x = data.drop('CPU Usage',axis = 1)\n",
    "y = data['CPU Usage']"
   ]
  },
  {
   "cell_type": "code",
   "execution_count": 9,
   "id": "f93ca7e7",
   "metadata": {},
   "outputs": [],
   "source": [
    "from sklearn.model_selection import train_test_split\n",
    "x_train, x_test, y_train, y_test = train_test_split(x, y, test_size=0.25, random_state=365)"
   ]
  },
  {
   "cell_type": "code",
   "execution_count": 16,
   "id": "ee490673",
   "metadata": {},
   "outputs": [
    {
     "name": "stdout",
     "output_type": "stream",
     "text": [
      "MAE: 2.5898795390231713\n",
      "MSE: 13.649510642983058\n",
      "RMSE: 3.694524413640145\n"
     ]
    }
   ],
   "source": [
    "reg = LinearRegression()\n",
    "reg.fit(x,y)\n",
    "y_pred = reg.predict(x_test)\n",
    "\n",
    " \n",
    "mae = mean_absolute_error(y_true=y_test,y_pred=y_pred)\n",
    "#squared True returns MSE value, False returns RMSE value.\n",
    "mse = mean_squared_error(y_true=y_test,y_pred=y_pred) #default=True\n",
    "rmse = mean_squared_error(y_true=y_test,y_pred=y_pred,squared=False)\n",
    " \n",
    "print(\"MAE:\",mae)\n",
    "print(\"MSE:\",mse)\n",
    "print(\"RMSE:\",rmse)"
   ]
  },
  {
   "cell_type": "code",
   "execution_count": 11,
   "id": "1efeb8f0",
   "metadata": {},
   "outputs": [
    {
     "name": "stdout",
     "output_type": "stream",
     "text": [
      "MAE: 1.4645003188026446\n",
      "MSE: 4.678639066313403\n",
      "RMSE: 2.1630161964981682\n"
     ]
    }
   ],
   "source": [
    "DTR = DecisionTreeRegressor(max_depth=30)\n",
    "DTR.fit(x, y)\n",
    "\n",
    "DTR_y = DTR.predict(x_test)\n",
    "\n",
    "\n",
    "mae = mean_absolute_error(y_true=y_test,y_pred=DTR_y)\n",
    "#squared True returns MSE value, False returns RMSE value.\n",
    "mse = mean_squared_error(y_true=y_test,y_pred=DTR_y) #default=True\n",
    "rmse = mean_squared_error(y_true=y_test,y_pred=DTR_y,squared=False)\n",
    " \n",
    "print(\"MAE:\",mae)\n",
    "print(\"MSE:\",mse)\n",
    "print(\"RMSE:\",rmse)"
   ]
  },
  {
   "cell_type": "code",
   "execution_count": 21,
   "id": "26ddb98d",
   "metadata": {},
   "outputs": [],
   "source": [
    "l = [65,10,103.8]"
   ]
  },
  {
   "cell_type": "code",
   "execution_count": 22,
   "id": "31f91eec",
   "metadata": {},
   "outputs": [
    {
     "name": "stderr",
     "output_type": "stream",
     "text": [
      "C:\\Anaconda\\lib\\site-packages\\sklearn\\base.py:450: UserWarning: X does not have valid feature names, but DecisionTreeRegressor was fitted with feature names\n",
      "  warnings.warn(\n"
     ]
    },
    {
     "data": {
      "text/plain": [
       "array([0.8225])"
      ]
     },
     "execution_count": 22,
     "metadata": {},
     "output_type": "execute_result"
    }
   ],
   "source": [
    "DTR.predict([l])"
   ]
  },
  {
   "cell_type": "code",
   "execution_count": 23,
   "id": "5039671e",
   "metadata": {},
   "outputs": [
    {
     "name": "stderr",
     "output_type": "stream",
     "text": [
      "C:\\Anaconda\\lib\\site-packages\\sklearn\\base.py:450: UserWarning: X does not have valid feature names, but LinearRegression was fitted with feature names\n",
      "  warnings.warn(\n"
     ]
    },
    {
     "data": {
      "text/plain": [
       "array([-87.96176562])"
      ]
     },
     "execution_count": 23,
     "metadata": {},
     "output_type": "execute_result"
    }
   ],
   "source": [
    "reg.predict([l])"
   ]
  }
 ],
 "metadata": {
  "kernelspec": {
   "display_name": "Python 3 (ipykernel)",
   "language": "python",
   "name": "python3"
  },
  "language_info": {
   "codemirror_mode": {
    "name": "ipython",
    "version": 3
   },
   "file_extension": ".py",
   "mimetype": "text/x-python",
   "name": "python",
   "nbconvert_exporter": "python",
   "pygments_lexer": "ipython3",
   "version": "3.9.13"
  }
 },
 "nbformat": 4,
 "nbformat_minor": 5
}
